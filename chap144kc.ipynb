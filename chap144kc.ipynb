{
 "cells": [
  {
   "cell_type": "markdown",
   "metadata": {},
   "source": [
    "# 1.4.4 Smoothing Images"
   ]
  },
  {
   "cell_type": "markdown",
   "metadata": {},
   "source": [
    "## Kernel Convolution"
   ]
  },
  {
   "cell_type": "code",
   "execution_count": 1,
   "metadata": {},
   "outputs": [],
   "source": [
    "import cv2\n",
    "import numpy as np\n",
    "from matplotlib import pyplot as plt"
   ]
  },
  {
   "cell_type": "code",
   "execution_count": 2,
   "metadata": {},
   "outputs": [],
   "source": [
    "l=1\n",
    "kernel = np.array([[0,-1,0],[-1,4,-1],[0,-1,0]],np.float32)"
   ]
  },
  {
   "cell_type": "code",
   "execution_count": 3,
   "metadata": {},
   "outputs": [
    {
     "data": {
      "text/plain": [
       "array([[ 0., -1.,  0.],\n",
       "       [-1.,  4., -1.],\n",
       "       [ 0., -1.,  0.]], dtype=float32)"
      ]
     },
     "execution_count": 3,
     "metadata": {},
     "output_type": "execute_result"
    }
   ],
   "source": [
    "kernel"
   ]
  },
  {
   "cell_type": "code",
   "execution_count": 4,
   "metadata": {},
   "outputs": [],
   "source": [
    "img = np.random.randint(10, size=(12,12))\n",
    "#img = np.ones((10,10),np.float32)"
   ]
  },
  {
   "cell_type": "code",
   "execution_count": 5,
   "metadata": {},
   "outputs": [
    {
     "data": {
      "text/plain": [
       "array([[9, 5, 1, 8, 4, 4, 1, 2, 9, 0, 6, 8],\n",
       "       [9, 4, 9, 1, 7, 0, 1, 5, 2, 0, 4, 0],\n",
       "       [7, 4, 8, 5, 2, 2, 5, 3, 4, 9, 2, 9],\n",
       "       [0, 5, 9, 9, 6, 3, 8, 2, 9, 3, 3, 2],\n",
       "       [2, 3, 4, 1, 3, 6, 2, 8, 2, 4, 6, 0],\n",
       "       [3, 5, 1, 2, 8, 6, 6, 1, 5, 4, 7, 0],\n",
       "       [5, 1, 1, 5, 7, 3, 6, 5, 2, 7, 6, 7],\n",
       "       [9, 9, 6, 1, 0, 7, 7, 0, 0, 1, 8, 1],\n",
       "       [7, 1, 0, 0, 7, 6, 8, 8, 0, 5, 1, 8],\n",
       "       [2, 4, 3, 7, 1, 3, 2, 2, 7, 2, 4, 7],\n",
       "       [9, 9, 0, 3, 8, 1, 6, 9, 4, 3, 4, 8],\n",
       "       [3, 8, 9, 9, 5, 7, 2, 4, 5, 7, 4, 1]])"
      ]
     },
     "execution_count": 5,
     "metadata": {},
     "output_type": "execute_result"
    }
   ],
   "source": [
    "img"
   ]
  },
  {
   "cell_type": "code",
   "execution_count": 6,
   "metadata": {},
   "outputs": [],
   "source": [
    "h,w=img.shape"
   ]
  },
  {
   "cell_type": "code",
   "execution_count": 7,
   "metadata": {},
   "outputs": [
    {
     "name": "stdout",
     "output_type": "stream",
     "text": [
      "12 12\n"
     ]
    }
   ],
   "source": [
    "print(h,w)"
   ]
  },
  {
   "cell_type": "code",
   "execution_count": 8,
   "metadata": {},
   "outputs": [],
   "source": [
    "#[*range(-2,3)]"
   ]
  },
  {
   "cell_type": "code",
   "execution_count": 9,
   "metadata": {},
   "outputs": [],
   "source": [
    "dst = np.zeros((h,w),np.int)"
   ]
  },
  {
   "cell_type": "code",
   "execution_count": 10,
   "metadata": {},
   "outputs": [],
   "source": [
    "for i in range(l,h-l):\n",
    "    for j in range(l,w-l):\n",
    "        t=0\n",
    "        for p in range(-l,l+1):\n",
    "            for q in range(-l,l+1):\n",
    "                t += kernel[p+l,q+l]*img[i+p,j+q]\n",
    "        dst[i,j]=t        "
   ]
  },
  {
   "cell_type": "code",
   "execution_count": 11,
   "metadata": {},
   "outputs": [
    {
     "data": {
      "text/plain": [
       "array([[9, 5, 1, 8, 4, 4, 1, 2, 9, 0, 6, 8],\n",
       "       [9, 4, 9, 1, 7, 0, 1, 5, 2, 0, 4, 0],\n",
       "       [7, 4, 8, 5, 2, 2, 5, 3, 4, 9, 2, 9],\n",
       "       [0, 5, 9, 9, 6, 3, 8, 2, 9, 3, 3, 2],\n",
       "       [2, 3, 4, 1, 3, 6, 2, 8, 2, 4, 6, 0],\n",
       "       [3, 5, 1, 2, 8, 6, 6, 1, 5, 4, 7, 0],\n",
       "       [5, 1, 1, 5, 7, 3, 6, 5, 2, 7, 6, 7],\n",
       "       [9, 9, 6, 1, 0, 7, 7, 0, 0, 1, 8, 1],\n",
       "       [7, 1, 0, 0, 7, 6, 8, 8, 0, 5, 1, 8],\n",
       "       [2, 4, 3, 7, 1, 3, 2, 2, 7, 2, 4, 7],\n",
       "       [9, 9, 0, 3, 8, 1, 6, 9, 4, 3, 4, 8],\n",
       "       [3, 8, 9, 9, 5, 7, 2, 4, 5, 7, 4, 1]])"
      ]
     },
     "execution_count": 11,
     "metadata": {},
     "output_type": "execute_result"
    }
   ],
   "source": [
    "img"
   ]
  },
  {
   "cell_type": "code",
   "execution_count": 12,
   "metadata": {},
   "outputs": [
    {
     "data": {
      "text/plain": [
       "array([[  0,   0,   0,   0,   0,   0,   0,   0,   0,   0,   0,   0],\n",
       "       [  0, -11,  22, -25,  21, -14,  -7,  12, -10, -15,   8,   0],\n",
       "       [  0,  -8,   5,   0, -12,  -2,   6,  -4,  -7,  27, -17,   0],\n",
       "       [  0,   4,  10,  15,   7, -10,  20, -20,  25, -13,  -1,   0],\n",
       "       [  0,  -4,   2, -14,  -9,  10, -20,  25, -18,   1,  10,   0],\n",
       "       [  0,  12,  -8,  -7,  14,   1,   9, -20,  11,  -7,  12,   0],\n",
       "       [  0, -16,  -9,   9,  12, -14,   3,  11,  -9,  15,  -5,   0],\n",
       "       [  0,  19,  13,  -7, -22,  12,   7, -20,  -3, -16,  23,   0],\n",
       "       [  0, -16, -10, -15,  21,  -1,   9,  22, -20,  16, -21,   0],\n",
       "       [  0,   1,   1,  21, -21,   2, -11, -18,  20, -11,   2,   0],\n",
       "       [  0,  15, -24, -12,  22, -20,  10,  20,  -8,  -5,  -3,   0],\n",
       "       [  0,   0,   0,   0,   0,   0,   0,   0,   0,   0,   0,   0]])"
      ]
     },
     "execution_count": 12,
     "metadata": {},
     "output_type": "execute_result"
    }
   ],
   "source": [
    "dst"
   ]
  },
  {
   "cell_type": "code",
   "execution_count": 17,
   "metadata": {},
   "outputs": [],
   "source": [
    "img = cv2.imread('img.png', 0)"
   ]
  },
  {
   "cell_type": "code",
   "execution_count": 18,
   "metadata": {},
   "outputs": [],
   "source": [
    "h,w=img.shape"
   ]
  },
  {
   "cell_type": "code",
   "execution_count": 19,
   "metadata": {},
   "outputs": [],
   "source": [
    "dst = np.zeros((h-2*l,w-2*l),np.uint8)"
   ]
  },
  {
   "cell_type": "code",
   "execution_count": 20,
   "metadata": {},
   "outputs": [],
   "source": [
    "for i in range(l,h-l):\n",
    "    for j in range(l,w-l):\n",
    "        t=0\n",
    "        for p in range(-l,l+1):\n",
    "            for q in range(-l,l+1):\n",
    "                t += kernel[p+l,q+l]*img[i+p,j+q]\n",
    "        dst[i-l,j-l]=t "
   ]
  },
  {
   "cell_type": "code",
   "execution_count": 21,
   "metadata": {},
   "outputs": [],
   "source": [
    "cv2.imshow('img',img)\n",
    "cv2.imshow('dst',dst)\n",
    "cv2.waitKey(0)\n",
    "cv2.destroyAllWindows()"
   ]
  },
  {
   "cell_type": "code",
   "execution_count": null,
   "metadata": {},
   "outputs": [],
   "source": []
  },
  {
   "cell_type": "code",
   "execution_count": null,
   "metadata": {},
   "outputs": [],
   "source": []
  }
 ],
 "metadata": {
  "kernelspec": {
   "display_name": "Python 3",
   "language": "python",
   "name": "python3"
  },
  "language_info": {
   "codemirror_mode": {
    "name": "ipython",
    "version": 3
   },
   "file_extension": ".py",
   "mimetype": "text/x-python",
   "name": "python",
   "nbconvert_exporter": "python",
   "pygments_lexer": "ipython3",
   "version": "3.8.3"
  }
 },
 "nbformat": 4,
 "nbformat_minor": 4
}
